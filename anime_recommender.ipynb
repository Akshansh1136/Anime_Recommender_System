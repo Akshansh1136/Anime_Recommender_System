{
 "cells": [
  {
   "cell_type": "code",
   "execution_count": 2,
   "id": "80ed1e5f",
   "metadata": {},
   "outputs": [],
   "source": [
    "import pandas as pd\n",
    "import numpy as np\n",
    "from sklearn.feature_extraction.text import CountVectorizer\n",
    "from sklearn.metrics.pairwise import cosine_similarity\n",
    "\n",
    "\n",
    "df = pd.read_csv(\"./dataset/anime_with_synopsis.csv\")\n"
   ]
  },
  {
   "cell_type": "code",
   "execution_count": 3,
   "id": "5b427419",
   "metadata": {
    "scrolled": true
   },
   "outputs": [
    {
     "data": {
      "text/html": [
       "<div>\n",
       "<style scoped>\n",
       "    .dataframe tbody tr th:only-of-type {\n",
       "        vertical-align: middle;\n",
       "    }\n",
       "\n",
       "    .dataframe tbody tr th {\n",
       "        vertical-align: top;\n",
       "    }\n",
       "\n",
       "    .dataframe thead th {\n",
       "        text-align: right;\n",
       "    }\n",
       "</style>\n",
       "<table border=\"1\" class=\"dataframe\">\n",
       "  <thead>\n",
       "    <tr style=\"text-align: right;\">\n",
       "      <th></th>\n",
       "      <th>MAL_ID</th>\n",
       "      <th>Name</th>\n",
       "      <th>Score</th>\n",
       "      <th>Genres</th>\n",
       "      <th>sypnopsis</th>\n",
       "    </tr>\n",
       "  </thead>\n",
       "  <tbody>\n",
       "    <tr>\n",
       "      <th>0</th>\n",
       "      <td>1</td>\n",
       "      <td>Cowboy Bebop</td>\n",
       "      <td>8.78</td>\n",
       "      <td>Action, Adventure, Comedy, Drama, Sci-Fi, Space</td>\n",
       "      <td>In the year 2071, humanity has colonized sever...</td>\n",
       "    </tr>\n",
       "    <tr>\n",
       "      <th>1</th>\n",
       "      <td>5</td>\n",
       "      <td>Cowboy Bebop: Tengoku no Tobira</td>\n",
       "      <td>8.39</td>\n",
       "      <td>Action, Drama, Mystery, Sci-Fi, Space</td>\n",
       "      <td>other day, another bounty—such is the life of ...</td>\n",
       "    </tr>\n",
       "    <tr>\n",
       "      <th>2</th>\n",
       "      <td>6</td>\n",
       "      <td>Trigun</td>\n",
       "      <td>8.24</td>\n",
       "      <td>Action, Sci-Fi, Adventure, Comedy, Drama, Shounen</td>\n",
       "      <td>Vash the Stampede is the man with a $$60,000,0...</td>\n",
       "    </tr>\n",
       "    <tr>\n",
       "      <th>3</th>\n",
       "      <td>7</td>\n",
       "      <td>Witch Hunter Robin</td>\n",
       "      <td>7.27</td>\n",
       "      <td>Action, Mystery, Police, Supernatural, Drama, ...</td>\n",
       "      <td>ches are individuals with special powers like ...</td>\n",
       "    </tr>\n",
       "    <tr>\n",
       "      <th>4</th>\n",
       "      <td>8</td>\n",
       "      <td>Bouken Ou Beet</td>\n",
       "      <td>6.98</td>\n",
       "      <td>Adventure, Fantasy, Shounen, Supernatural</td>\n",
       "      <td>It is the dark century and the people are suff...</td>\n",
       "    </tr>\n",
       "  </tbody>\n",
       "</table>\n",
       "</div>"
      ],
      "text/plain": [
       "   MAL_ID                             Name Score  \\\n",
       "0       1                     Cowboy Bebop  8.78   \n",
       "1       5  Cowboy Bebop: Tengoku no Tobira  8.39   \n",
       "2       6                           Trigun  8.24   \n",
       "3       7               Witch Hunter Robin  7.27   \n",
       "4       8                   Bouken Ou Beet  6.98   \n",
       "\n",
       "                                              Genres  \\\n",
       "0    Action, Adventure, Comedy, Drama, Sci-Fi, Space   \n",
       "1              Action, Drama, Mystery, Sci-Fi, Space   \n",
       "2  Action, Sci-Fi, Adventure, Comedy, Drama, Shounen   \n",
       "3  Action, Mystery, Police, Supernatural, Drama, ...   \n",
       "4          Adventure, Fantasy, Shounen, Supernatural   \n",
       "\n",
       "                                           sypnopsis  \n",
       "0  In the year 2071, humanity has colonized sever...  \n",
       "1  other day, another bounty—such is the life of ...  \n",
       "2  Vash the Stampede is the man with a $$60,000,0...  \n",
       "3  ches are individuals with special powers like ...  \n",
       "4  It is the dark century and the people are suff...  "
      ]
     },
     "execution_count": 3,
     "metadata": {},
     "output_type": "execute_result"
    }
   ],
   "source": [
    "df.head()\n",
    "     "
   ]
  },
  {
   "cell_type": "code",
   "execution_count": 4,
   "id": "814a21cd",
   "metadata": {},
   "outputs": [
    {
     "data": {
      "text/plain": [
       "MAL_ID       0\n",
       "Name         0\n",
       "Score        0\n",
       "Genres       0\n",
       "sypnopsis    8\n",
       "dtype: int64"
      ]
     },
     "execution_count": 4,
     "metadata": {},
     "output_type": "execute_result"
    }
   ],
   "source": [
    "#returns the number of missing values in the dataset\n",
    "df.isnull().sum()"
   ]
  },
  {
   "cell_type": "code",
   "execution_count": 5,
   "id": "73960c4a",
   "metadata": {},
   "outputs": [],
   "source": [
    "df.dropna(inplace=True)"
   ]
  },
  {
   "cell_type": "code",
   "execution_count": 6,
   "id": "4d82bf0a",
   "metadata": {},
   "outputs": [
    {
     "data": {
      "text/plain": [
       "0"
      ]
     },
     "execution_count": 6,
     "metadata": {},
     "output_type": "execute_result"
    }
   ],
   "source": [
    "#that describe which rows in the DataFrame are \"duplicated\" and no\n",
    "df.duplicated().sum()"
   ]
  },
  {
   "cell_type": "code",
   "execution_count": 7,
   "id": "e4264839",
   "metadata": {},
   "outputs": [],
   "source": [
    "df[\"Score\"] = df[\"Score\"].map(lambda x:np.nan if x==\"Unknown\" else x)"
   ]
  },
  {
   "cell_type": "code",
   "execution_count": 8,
   "id": "3a1df2b8",
   "metadata": {},
   "outputs": [],
   "source": [
    "df[\"Score\"].fillna(df[\"Score\"].median(),inplace = True)"
   ]
  },
  {
   "cell_type": "code",
   "execution_count": 9,
   "id": "fb13f5ff",
   "metadata": {},
   "outputs": [],
   "source": [
    "df[\"Score\"] = df[\"Score\"].astype(float)"
   ]
  },
  {
   "cell_type": "code",
   "execution_count": 10,
   "id": "d6382d54",
   "metadata": {
    "scrolled": true
   },
   "outputs": [
    {
     "name": "stdout",
     "output_type": "stream",
     "text": [
      "<class 'pandas.core.frame.DataFrame'>\n",
      "Int64Index: 16206 entries, 0 to 16213\n",
      "Data columns (total 5 columns):\n",
      " #   Column     Non-Null Count  Dtype  \n",
      "---  ------     --------------  -----  \n",
      " 0   MAL_ID     16206 non-null  int64  \n",
      " 1   Name       16206 non-null  object \n",
      " 2   Score      16206 non-null  float64\n",
      " 3   Genres     16206 non-null  object \n",
      " 4   sypnopsis  16206 non-null  object \n",
      "dtypes: float64(1), int64(1), object(3)\n",
      "memory usage: 759.7+ KB\n"
     ]
    }
   ],
   "source": [
    "df.info()"
   ]
  },
  {
   "cell_type": "code",
   "execution_count": 11,
   "id": "068e3cdf",
   "metadata": {},
   "outputs": [],
   "source": [
    "df['Genres'] = df['Genres'].apply(lambda x:x.split())\n",
    "df['sypnopsis'] = df['sypnopsis'].apply(lambda x:x.split())"
   ]
  },
  {
   "cell_type": "code",
   "execution_count": 13,
   "id": "912441a8",
   "metadata": {},
   "outputs": [
    {
     "data": {
      "text/html": [
       "<div>\n",
       "<style scoped>\n",
       "    .dataframe tbody tr th:only-of-type {\n",
       "        vertical-align: middle;\n",
       "    }\n",
       "\n",
       "    .dataframe tbody tr th {\n",
       "        vertical-align: top;\n",
       "    }\n",
       "\n",
       "    .dataframe thead th {\n",
       "        text-align: right;\n",
       "    }\n",
       "</style>\n",
       "<table border=\"1\" class=\"dataframe\">\n",
       "  <thead>\n",
       "    <tr style=\"text-align: right;\">\n",
       "      <th></th>\n",
       "      <th>MAL_ID</th>\n",
       "      <th>Name</th>\n",
       "      <th>Score</th>\n",
       "      <th>Genres</th>\n",
       "      <th>sypnopsis</th>\n",
       "    </tr>\n",
       "  </thead>\n",
       "  <tbody>\n",
       "    <tr>\n",
       "      <th>0</th>\n",
       "      <td>1</td>\n",
       "      <td>Cowboy Bebop</td>\n",
       "      <td>8.78</td>\n",
       "      <td>[Action,, Adventure,, Comedy,, Drama,, Sci-Fi,...</td>\n",
       "      <td>[In, the, year, 2071,, humanity, has, colonize...</td>\n",
       "    </tr>\n",
       "    <tr>\n",
       "      <th>1</th>\n",
       "      <td>5</td>\n",
       "      <td>Cowboy Bebop: Tengoku no Tobira</td>\n",
       "      <td>8.39</td>\n",
       "      <td>[Action,, Drama,, Mystery,, Sci-Fi,, Space]</td>\n",
       "      <td>[other, day,, another, bounty—such, is, the, l...</td>\n",
       "    </tr>\n",
       "    <tr>\n",
       "      <th>2</th>\n",
       "      <td>6</td>\n",
       "      <td>Trigun</td>\n",
       "      <td>8.24</td>\n",
       "      <td>[Action,, Sci-Fi,, Adventure,, Comedy,, Drama,...</td>\n",
       "      <td>[Vash, the, Stampede, is, the, man, with, a, $...</td>\n",
       "    </tr>\n",
       "    <tr>\n",
       "      <th>3</th>\n",
       "      <td>7</td>\n",
       "      <td>Witch Hunter Robin</td>\n",
       "      <td>7.27</td>\n",
       "      <td>[Action,, Mystery,, Police,, Supernatural,, Dr...</td>\n",
       "      <td>[ches, are, individuals, with, special, powers...</td>\n",
       "    </tr>\n",
       "    <tr>\n",
       "      <th>4</th>\n",
       "      <td>8</td>\n",
       "      <td>Bouken Ou Beet</td>\n",
       "      <td>6.98</td>\n",
       "      <td>[Adventure,, Fantasy,, Shounen,, Supernatural]</td>\n",
       "      <td>[It, is, the, dark, century, and, the, people,...</td>\n",
       "    </tr>\n",
       "  </tbody>\n",
       "</table>\n",
       "</div>"
      ],
      "text/plain": [
       "   MAL_ID                             Name  Score  \\\n",
       "0       1                     Cowboy Bebop   8.78   \n",
       "1       5  Cowboy Bebop: Tengoku no Tobira   8.39   \n",
       "2       6                           Trigun   8.24   \n",
       "3       7               Witch Hunter Robin   7.27   \n",
       "4       8                   Bouken Ou Beet   6.98   \n",
       "\n",
       "                                              Genres  \\\n",
       "0  [Action,, Adventure,, Comedy,, Drama,, Sci-Fi,...   \n",
       "1        [Action,, Drama,, Mystery,, Sci-Fi,, Space]   \n",
       "2  [Action,, Sci-Fi,, Adventure,, Comedy,, Drama,...   \n",
       "3  [Action,, Mystery,, Police,, Supernatural,, Dr...   \n",
       "4     [Adventure,, Fantasy,, Shounen,, Supernatural]   \n",
       "\n",
       "                                           sypnopsis  \n",
       "0  [In, the, year, 2071,, humanity, has, colonize...  \n",
       "1  [other, day,, another, bounty—such, is, the, l...  \n",
       "2  [Vash, the, Stampede, is, the, man, with, a, $...  \n",
       "3  [ches, are, individuals, with, special, powers...  \n",
       "4  [It, is, the, dark, century, and, the, people,...  "
      ]
     },
     "execution_count": 13,
     "metadata": {},
     "output_type": "execute_result"
    }
   ],
   "source": [
    "df.head()"
   ]
  },
  {
   "cell_type": "code",
   "execution_count": 14,
   "id": "3e030003",
   "metadata": {},
   "outputs": [],
   "source": [
    "# remove space between two words\n",
    "df['Genres'] = df['Genres'].apply(lambda x:[i.replace(\" \",\"\") for i in x])\n",
    "df['sypnopsis'] = df['sypnopsis'].apply(lambda x:[i.replace(\" \",\"\") for i in x])"
   ]
  },
  {
   "cell_type": "code",
   "execution_count": 15,
   "id": "9e3e52ec",
   "metadata": {},
   "outputs": [],
   "source": [
    "df['features'] = df['Genres'] + df['sypnopsis'] \n",
    "     \n"
   ]
  },
  {
   "cell_type": "code",
   "execution_count": 16,
   "id": "ac6ab537",
   "metadata": {},
   "outputs": [],
   "source": [
    "new_df = df[['Name', 'features']]"
   ]
  },
  {
   "cell_type": "code",
   "execution_count": 17,
   "id": "61046767",
   "metadata": {},
   "outputs": [
    {
     "name": "stderr",
     "output_type": "stream",
     "text": [
      "C:\\Users\\aksha\\AppData\\Local\\Temp\\ipykernel_100\\1172888277.py:2: SettingWithCopyWarning: \n",
      "A value is trying to be set on a copy of a slice from a DataFrame.\n",
      "Try using .loc[row_indexer,col_indexer] = value instead\n",
      "\n",
      "See the caveats in the documentation: https://pandas.pydata.org/pandas-docs/stable/user_guide/indexing.html#returning-a-view-versus-a-copy\n",
      "  new_df['features'] = new_df['features'].apply(lambda x:\" \".join(x))\n"
     ]
    }
   ],
   "source": [
    "\n",
    "# convert list to string\n",
    "new_df['features'] = new_df['features'].apply(lambda x:\" \".join(x))"
   ]
  },
  {
   "cell_type": "code",
   "execution_count": 18,
   "id": "b746d837",
   "metadata": {},
   "outputs": [
    {
     "data": {
      "text/html": [
       "<div>\n",
       "<style scoped>\n",
       "    .dataframe tbody tr th:only-of-type {\n",
       "        vertical-align: middle;\n",
       "    }\n",
       "\n",
       "    .dataframe tbody tr th {\n",
       "        vertical-align: top;\n",
       "    }\n",
       "\n",
       "    .dataframe thead th {\n",
       "        text-align: right;\n",
       "    }\n",
       "</style>\n",
       "<table border=\"1\" class=\"dataframe\">\n",
       "  <thead>\n",
       "    <tr style=\"text-align: right;\">\n",
       "      <th></th>\n",
       "      <th>Name</th>\n",
       "      <th>features</th>\n",
       "    </tr>\n",
       "  </thead>\n",
       "  <tbody>\n",
       "    <tr>\n",
       "      <th>0</th>\n",
       "      <td>Cowboy Bebop</td>\n",
       "      <td>Action, Adventure, Comedy, Drama, Sci-Fi, Spac...</td>\n",
       "    </tr>\n",
       "    <tr>\n",
       "      <th>1</th>\n",
       "      <td>Cowboy Bebop: Tengoku no Tobira</td>\n",
       "      <td>Action, Drama, Mystery, Sci-Fi, Space other da...</td>\n",
       "    </tr>\n",
       "    <tr>\n",
       "      <th>2</th>\n",
       "      <td>Trigun</td>\n",
       "      <td>Action, Sci-Fi, Adventure, Comedy, Drama, Shou...</td>\n",
       "    </tr>\n",
       "    <tr>\n",
       "      <th>3</th>\n",
       "      <td>Witch Hunter Robin</td>\n",
       "      <td>Action, Mystery, Police, Supernatural, Drama, ...</td>\n",
       "    </tr>\n",
       "    <tr>\n",
       "      <th>4</th>\n",
       "      <td>Bouken Ou Beet</td>\n",
       "      <td>Adventure, Fantasy, Shounen, Supernatural It i...</td>\n",
       "    </tr>\n",
       "    <tr>\n",
       "      <th>...</th>\n",
       "      <td>...</td>\n",
       "      <td>...</td>\n",
       "    </tr>\n",
       "    <tr>\n",
       "      <th>16209</th>\n",
       "      <td>Daomu Biji Zhi Qinling Shen Shu</td>\n",
       "      <td>Adventure, Mystery, Supernatural No synopsis i...</td>\n",
       "    </tr>\n",
       "    <tr>\n",
       "      <th>16210</th>\n",
       "      <td>Mieruko-chan</td>\n",
       "      <td>Comedy, Horror, Supernatural ko is a typical h...</td>\n",
       "    </tr>\n",
       "    <tr>\n",
       "      <th>16211</th>\n",
       "      <td>Higurashi no Naku Koro ni Sotsu</td>\n",
       "      <td>Mystery, Dementia, Horror, Psychological, Supe...</td>\n",
       "    </tr>\n",
       "    <tr>\n",
       "      <th>16212</th>\n",
       "      <td>Yama no Susume: Next Summit</td>\n",
       "      <td>Adventure, Slice of Life, Comedy New Yama no S...</td>\n",
       "    </tr>\n",
       "    <tr>\n",
       "      <th>16213</th>\n",
       "      <td>Scarlet Nexus</td>\n",
       "      <td>Action, Fantasy Solar calendar year 2020: grot...</td>\n",
       "    </tr>\n",
       "  </tbody>\n",
       "</table>\n",
       "<p>16206 rows × 2 columns</p>\n",
       "</div>"
      ],
      "text/plain": [
       "                                  Name  \\\n",
       "0                         Cowboy Bebop   \n",
       "1      Cowboy Bebop: Tengoku no Tobira   \n",
       "2                               Trigun   \n",
       "3                   Witch Hunter Robin   \n",
       "4                       Bouken Ou Beet   \n",
       "...                                ...   \n",
       "16209  Daomu Biji Zhi Qinling Shen Shu   \n",
       "16210                     Mieruko-chan   \n",
       "16211  Higurashi no Naku Koro ni Sotsu   \n",
       "16212      Yama no Susume: Next Summit   \n",
       "16213                    Scarlet Nexus   \n",
       "\n",
       "                                                features  \n",
       "0      Action, Adventure, Comedy, Drama, Sci-Fi, Spac...  \n",
       "1      Action, Drama, Mystery, Sci-Fi, Space other da...  \n",
       "2      Action, Sci-Fi, Adventure, Comedy, Drama, Shou...  \n",
       "3      Action, Mystery, Police, Supernatural, Drama, ...  \n",
       "4      Adventure, Fantasy, Shounen, Supernatural It i...  \n",
       "...                                                  ...  \n",
       "16209  Adventure, Mystery, Supernatural No synopsis i...  \n",
       "16210  Comedy, Horror, Supernatural ko is a typical h...  \n",
       "16211  Mystery, Dementia, Horror, Psychological, Supe...  \n",
       "16212  Adventure, Slice of Life, Comedy New Yama no S...  \n",
       "16213  Action, Fantasy Solar calendar year 2020: grot...  \n",
       "\n",
       "[16206 rows x 2 columns]"
      ]
     },
     "execution_count": 18,
     "metadata": {},
     "output_type": "execute_result"
    }
   ],
   "source": [
    "new_df"
   ]
  },
  {
   "cell_type": "code",
   "execution_count": 19,
   "id": "bbe57af1",
   "metadata": {},
   "outputs": [],
   "source": [
    "\n",
    "#Stemming is the process of producing morphological variants of a root/base word.\n",
    "\"\"\"\n",
    "root word \"like\" include:\n",
    "\n",
    "-> \"likes\"\n",
    "-> \"liked\"\n",
    "-> \"likely\"\n",
    "-> \"liking\"\n",
    "\n",
    "\"\"\"\n",
    "\n",
    "import nltk\n",
    "from nltk.stem.porter import PorterStemmer\n",
    "ps = PorterStemmer()"
   ]
  },
  {
   "cell_type": "code",
   "execution_count": 20,
   "id": "abd821c4",
   "metadata": {},
   "outputs": [],
   "source": [
    "\n",
    "def stem(text):\n",
    "    y = []\n",
    "    \n",
    "    for i in text.split():\n",
    "        y.append(ps.stem(i))\n",
    "    \n",
    "    return \" \".join(y)"
   ]
  },
  {
   "cell_type": "code",
   "execution_count": 21,
   "id": "54ef5a9c",
   "metadata": {},
   "outputs": [
    {
     "name": "stderr",
     "output_type": "stream",
     "text": [
      "C:\\Users\\aksha\\AppData\\Local\\Temp\\ipykernel_100\\3223666640.py:1: SettingWithCopyWarning: \n",
      "A value is trying to be set on a copy of a slice from a DataFrame.\n",
      "Try using .loc[row_indexer,col_indexer] = value instead\n",
      "\n",
      "See the caveats in the documentation: https://pandas.pydata.org/pandas-docs/stable/user_guide/indexing.html#returning-a-view-versus-a-copy\n",
      "  new_df['features'] = new_df['features'].apply(stem)\n"
     ]
    }
   ],
   "source": [
    "new_df['features'] = new_df['features'].apply(stem)"
   ]
  },
  {
   "cell_type": "code",
   "execution_count": 22,
   "id": "7938d41e",
   "metadata": {},
   "outputs": [
    {
     "name": "stderr",
     "output_type": "stream",
     "text": [
      "C:\\Users\\aksha\\AppData\\Local\\Temp\\ipykernel_100\\2700973631.py:2: SettingWithCopyWarning: \n",
      "A value is trying to be set on a copy of a slice from a DataFrame.\n",
      "Try using .loc[row_indexer,col_indexer] = value instead\n",
      "\n",
      "See the caveats in the documentation: https://pandas.pydata.org/pandas-docs/stable/user_guide/indexing.html#returning-a-view-versus-a-copy\n",
      "  new_df['features'] = new_df['features'].apply(lambda x:x.lower())\n"
     ]
    }
   ],
   "source": [
    "# convert to lowercase\n",
    "new_df['features'] = new_df['features'].apply(lambda x:x.lower())"
   ]
  },
  {
   "cell_type": "code",
   "execution_count": 23,
   "id": "f65430a3",
   "metadata": {},
   "outputs": [
    {
     "data": {
      "text/html": [
       "<div>\n",
       "<style scoped>\n",
       "    .dataframe tbody tr th:only-of-type {\n",
       "        vertical-align: middle;\n",
       "    }\n",
       "\n",
       "    .dataframe tbody tr th {\n",
       "        vertical-align: top;\n",
       "    }\n",
       "\n",
       "    .dataframe thead th {\n",
       "        text-align: right;\n",
       "    }\n",
       "</style>\n",
       "<table border=\"1\" class=\"dataframe\">\n",
       "  <thead>\n",
       "    <tr style=\"text-align: right;\">\n",
       "      <th></th>\n",
       "      <th>Name</th>\n",
       "      <th>features</th>\n",
       "    </tr>\n",
       "  </thead>\n",
       "  <tbody>\n",
       "    <tr>\n",
       "      <th>0</th>\n",
       "      <td>Cowboy Bebop</td>\n",
       "      <td>action, adventure, comedy, drama, sci-fi, spac...</td>\n",
       "    </tr>\n",
       "    <tr>\n",
       "      <th>1</th>\n",
       "      <td>Cowboy Bebop: Tengoku no Tobira</td>\n",
       "      <td>action, drama, mystery, sci-fi, space other da...</td>\n",
       "    </tr>\n",
       "    <tr>\n",
       "      <th>2</th>\n",
       "      <td>Trigun</td>\n",
       "      <td>action, sci-fi, adventure, comedy, drama, shou...</td>\n",
       "    </tr>\n",
       "    <tr>\n",
       "      <th>3</th>\n",
       "      <td>Witch Hunter Robin</td>\n",
       "      <td>action, mystery, police, supernatural, drama, ...</td>\n",
       "    </tr>\n",
       "    <tr>\n",
       "      <th>4</th>\n",
       "      <td>Bouken Ou Beet</td>\n",
       "      <td>adventure, fantasy, shounen, supernatur it is ...</td>\n",
       "    </tr>\n",
       "  </tbody>\n",
       "</table>\n",
       "</div>"
      ],
      "text/plain": [
       "                              Name  \\\n",
       "0                     Cowboy Bebop   \n",
       "1  Cowboy Bebop: Tengoku no Tobira   \n",
       "2                           Trigun   \n",
       "3               Witch Hunter Robin   \n",
       "4                   Bouken Ou Beet   \n",
       "\n",
       "                                            features  \n",
       "0  action, adventure, comedy, drama, sci-fi, spac...  \n",
       "1  action, drama, mystery, sci-fi, space other da...  \n",
       "2  action, sci-fi, adventure, comedy, drama, shou...  \n",
       "3  action, mystery, police, supernatural, drama, ...  \n",
       "4  adventure, fantasy, shounen, supernatur it is ...  "
      ]
     },
     "execution_count": 23,
     "metadata": {},
     "output_type": "execute_result"
    }
   ],
   "source": [
    "new_df.head()"
   ]
  },
  {
   "cell_type": "code",
   "execution_count": 24,
   "id": "a273c5f0",
   "metadata": {},
   "outputs": [],
   "source": [
    "\"\"\"\n",
    "Countvectorizer is a method to convert text to numerical data\n",
    "\n",
    "The CountVectorizer will select the words/features/terms which occur the most frequently.\n",
    "It takes absolute values so if you set the ‘max_features = 3’, it will select the 3 most \n",
    "common words in the data.\n",
    "\n",
    "If ‘english’, a built-in stop word list for English is used. \n",
    "\"\"\"\n",
    "\n",
    "from sklearn.feature_extraction.text import CountVectorizer\n",
    "cv = CountVectorizer(max_features=5000, stop_words='english')"
   ]
  },
  {
   "cell_type": "code",
   "execution_count": 25,
   "id": "81de30f3",
   "metadata": {},
   "outputs": [],
   "source": [
    "vectors = cv.fit_transform(new_df['features']).toarray()"
   ]
  },
  {
   "cell_type": "code",
   "execution_count": 26,
   "id": "b3402ce8",
   "metadata": {},
   "outputs": [
    {
     "data": {
      "text/plain": [
       "array([[0, 0, 0, ..., 0, 0, 0],\n",
       "       [0, 0, 0, ..., 0, 0, 0],\n",
       "       [0, 3, 0, ..., 0, 0, 0],\n",
       "       ...,\n",
       "       [0, 0, 0, ..., 0, 0, 0],\n",
       "       [0, 0, 0, ..., 0, 0, 0],\n",
       "       [0, 0, 0, ..., 0, 0, 0]], dtype=int64)"
      ]
     },
     "execution_count": 26,
     "metadata": {},
     "output_type": "execute_result"
    }
   ],
   "source": [
    "vectors"
   ]
  },
  {
   "cell_type": "code",
   "execution_count": 27,
   "id": "24d30b08",
   "metadata": {},
   "outputs": [],
   "source": [
    "from sklearn.metrics.pairwise import cosine_similarity\n",
    "     \n",
    "\n",
    "#we use cosine similarity between these vectors to find their similarity.\n",
    "similarity = cosine_similarity(vectors)"
   ]
  },
  {
   "cell_type": "code",
   "execution_count": 28,
   "id": "0b7a20bf",
   "metadata": {},
   "outputs": [
    {
     "data": {
      "text/plain": [
       "(16206, 16206)"
      ]
     },
     "execution_count": 28,
     "metadata": {},
     "output_type": "execute_result"
    }
   ],
   "source": [
    "cosine_similarity(vectors).shape"
   ]
  },
  {
   "cell_type": "code",
   "execution_count": 29,
   "id": "c52e1fc8",
   "metadata": {},
   "outputs": [
    {
     "data": {
      "text/plain": [
       "[(3149, 0.3493261963115963),\n",
       " (5545, 0.3351775152257364),\n",
       " (1145, 0.31619510292053465),\n",
       " (5949, 0.29793556908954344),\n",
       " (15573, 0.29793556908954344),\n",
       " (365, 0.2931856917889426),\n",
       " (3669, 0.2922959000805237),\n",
       " (4028, 0.28783310518446176),\n",
       " (2077, 0.2844400619942872)]"
      ]
     },
     "execution_count": 29,
     "metadata": {},
     "output_type": "execute_result"
    }
   ],
   "source": [
    "# creates a tupple and stores every similarity index\n",
    "sorted(list(enumerate(similarity[0])),reverse=True,key=lambda x:x[1])[1:10]"
   ]
  },
  {
   "cell_type": "code",
   "execution_count": 39,
   "id": "ddb6772d",
   "metadata": {},
   "outputs": [],
   "source": [
    "def recommend(anime):\n",
    "    movie_index = new_df[new_df['Name'] == anime].index[0]\n",
    "    distances = similarity[movie_index]\n",
    "    movies_list = sorted(list(enumerate(distances)),reverse=True,key=lambda x:x[1])[1:15]\n",
    "\n",
    "    # create a list to store recommended anime names and their details\n",
    "    recommended_anime = []\n",
    "    for i in movies_list:\n",
    "        anime_name = new_df.iloc[i[0]].Name\n",
    "        anime_score = df[df['Name'] == anime_name]['Score'].values[0] # get the score from the original dataframe\n",
    "        anime_genres = df[df['Name'] == anime_name]['Genres'].values[0] # get the genres from the original dataframe\n",
    "        anime_synopsis = df[df['Name'] == anime_name]['sypnopsis'].values[0] # get the synopsis from the original dataframe\n",
    "        recommended_anime.append((anime_name, anime_score, anime_genres, anime_synopsis))\n",
    "        \n",
    "    # sort the list of recommended anime by their score in descending order\n",
    "    recommended_anime = sorted(recommended_anime, key=lambda x:x[1], reverse=True)\n",
    "    \n",
    "    # return the top 10 anime names along with their details\n",
    "    for i in range(10):\n",
    "        print(f\"Name: {recommended_anime[i][0]}\")\n",
    "        print(f\"Score: {recommended_anime[i][1]}\")\n",
    "        print(f\"Genres: {' '.join(recommended_anime[i][2])}\") # convert list of genres to a string\n",
    "        print(f\"Synopsis: {' '.join(recommended_anime[i][3])}\") # convert list of synopsis to a string\n",
    "        print(\"\\n\")\n"
   ]
  },
  {
   "cell_type": "code",
   "execution_count": 40,
   "id": "72e182bf",
   "metadata": {},
   "outputs": [
    {
     "name": "stdout",
     "output_type": "stream",
     "text": [
      "Name: Shingeki no Kyojin Season 3\n",
      "Score: 8.59\n",
      "Genres: Action, Military, Mystery, Super Power, Drama, Fantasy, Shounen\n",
      "Synopsis: Still threatened by the \"Titans\" that rob them of their freedom, mankind remains caged inside the two remaining walls. Efforts to eradicate these monsters continue; however, threats arise not only from the Titans beyond the walls, but from the humans within them as well. After being rescued from the Colossal and Armored Titans, Eren Yaeger devotes himself to improving his Titan form. Krista Lenz struggles to accept the loss of her friend, Captain Levi chooses Eren and his friends to form his new personal squad, and Commander Erwin Smith recovers from his injuries. All seems well for the soldiers, until the government suddenly demands custody of Eren and Krista. The Survey Corps' recent successes have drawn attention, and a familiar face from Levi's past is sent to collect the wanted soldiers. Sought after by the government, Levi and his new squad must evade their adversaries in hopes of keeping Eren and Krista safe. In Shingeki no Kyojin Season 3 , Eren and his fellow soldiers are not only fighting for their survival against the terrifying Titans, but also against the terror of a far more conniving foe: humans.\n",
      "\n",
      "\n",
      "Name: Shingeki no Kyojin Season 2\n",
      "Score: 8.45\n",
      "Genres: Action, Military, Mystery, Super Power, Drama, Fantasy, Shounen\n",
      "Synopsis: For centuries, humanity has been hunted by giant, mysterious predators known as the Titans. Three mighty walls—Wall Maria, Rose, and Sheena—provided peace and protection for humanity for over a hundred years. That peace, however, was shattered when the Colossus Titan and Armored Titan appeared and destroyed the outermost wall, Wall Maria. Forced to retreat behind Wall Rose, humanity waited with bated breath for the Titans to reappear and destroy their safe haven once more. In Shingeki no Kyojin Season 2 , Eren Yeager and others of the 104th Training Corps have just begun to become full members of the Survey Corps. As they ready themselves to face the Titans once again, their preparations are interrupted by the invasion of Wall Rose—but all is not as it seems as more mysteries are unraveled. As the Survey Corps races to save the wall, they uncover more about the invading Titans and the dark secrets of their own members.\n",
      "\n",
      "\n",
      "Name: Gyakkyou Burai Kaiji: Ultimate Survivor\n",
      "Score: 8.28\n",
      "Genres: Game, Psychological, Thriller, Seinen\n",
      "Synopsis: Kaiji Itou is a good-for-nothing loiterer who spends his days drinking beer and stealing hubcaps—that is, until he ends up being tricked by his former co-worker. Unable to suddenly repay his friend's huge debt all by himself, Kaiji is offered a shady deal to participate in an illegal underground gamble on a cruise ship. This turns out to be nothing more than the beginning of his new life of hell—thrown headlong into a life-threatening roller coaster of mind games, cheating, and deceit. Based on the first entry of the famous gambling manga series by Nobuyuki Fukumoto, Gyakkyou Burai Kaiji: Ultimate Survivor follows our unlucky protagonist as he is forced to fight not only other people, but also the mysteries of their psyches. Kaiji finds out the hard way that the worst sides of human nature surface when people's backs are against the wall, and that the most fearsome dangers of all are greed, paranoia, and the human survival instinct itself.\n",
      "\n",
      "\n",
      "Name: Kekkai Sensen & Beyond\n",
      "Score: 7.88\n",
      "Genres: Action, Comedy, Fantasy, Shounen, Super Power, Supernatural, Vampire\n",
      "Synopsis: Three years ago, a gateway between Earth and the Beyond opened in New York City, trapping extradimensional creatures and humans alike in an impermeable bubble. After the city's restoration, monsters, magic, and madness are common findings in the area now known as Hellsalem's Lot. Leonardo Watch, a young photographer who unwillingly obtained the \"All-seeing Eyes of the Gods\" in exchange for his sister's eyesight, came to this paranormal city to find answers to the mysterious power that he possesses. He later finds his life drastically changed when he joins Libra, a secret organization of people with supernatural abilities dedicated to maintaining order in the everyday chaos of Hellsalem's Lot. However, this is only the beginning of Leonardo's unexpected journey ahead. Regardless of the constant threat of otherworldly enemies, he is determined to uncover the secrets of his power and find a way to restore his sister's eyesight. Kekkai Sensen & Beyond follows Leonardo as he sets off on more crazy adventures with his comrades, fighting to ensure peace and order.\n",
      "\n",
      "\n",
      "Name: Shingeki no Kyojin Season 2 Movie: Kakusei no Houkou\n",
      "Score: 7.76\n",
      "Genres: Action, Drama, Fantasy, Shounen, Super Power\n",
      "Synopsis: Eren Yeager and others of the 104th Training Corps have just begun to become full members of the Survey Corps. As they ready themselves to face the Titans once again, their preparations are interrupted by the invasion of Wall Rose—but all is not as it seems as more mysteries are unraveled. As the Survey Corps races to save the wall, they uncover more about the invading Titans and the dark secrets of their own members.\n",
      "\n",
      "\n",
      "Name: Ajin\n",
      "Score: 7.49\n",
      "Genres: Action, Mystery, Horror, Supernatural, Seinen\n",
      "Synopsis: sterious immortal humans known as \"Ajin\" first appeared 17 years ago in Africa. Upon their discovery, they were labeled as a threat to mankind, as they might use their powers for evil and were incapable of being destroyed. Since then, whenever an Ajin is found within society, they are to be arrested and taken into custody immediately. Studying hard to become a doctor, Kei Nagai is a high schooler who knows very little about Ajin, only having seen them appear in the news every now and then. Students are taught that these creatures are not considered to be human, but Kei doesn't pay much attention in class. As a result, his perilously little grasp on this subject proves to be completely irrelevant when he survives an accident that was supposed to claim his life, signaling his rebirth as an Ajin and the start of his days of torment. However, as he finds himself alone on the run from the entire world, Kei soon realizes that more of his species may be a lot closer than he thinks.\n",
      "\n",
      "\n",
      "Name: Karas\n",
      "Score: 7.42\n",
      "Genres: Action, Sci-Fi, Super Power, Fantasy\n",
      "Synopsis: The world of the humans and the world of the demons (youkai) have overlapped one another, leaving humans to walk the streets of life as they normally would, while demons walk, hidden from the naked eye, down the very same streets. A seemingly young woman named Yurine and her servant, the Karas (from the Japanese word for \"Crow\"), have long maintained order and balance between the overlapped worlds, ultimately keeping the demons from interrupting the lives of humans. However, humans have come to forget and jest at the existence of demons, and no longer understand the privilege it is to live without fear. Disgusted by this arrogance, an old Karas turns his back on the laws he had once upheld, and in his human form, named Eko, he creates an army of Mikura, or mechanized demons, to ready an attack on the human race. A young man named Otoha inherits the powers of the Karas and takes his place at the side of Yurine, who claims that his soul called out for her while he lived the life of a human. They live in the world of the demons. It is now up to Otoha to prove himself as a Karas, and restore the balance that Eko threatens to upset. Meanwhile, a superstitious police officer named Sagisaka and his rational new recruit, Kure, follow the trail of the murders dealt by Eko's Mikura, as well as the trail of a rogue Mikura named Nue. The prophecy unfolds from here into a grave revelation for all in the city. (Source: Wikipedia)\n",
      "\n",
      "\n",
      "Name: Noblesse: Pamyeol-ui Sijak\n",
      "Score: 7.31\n",
      "Genres: Action, Adventure, Supernatural\n",
      "Synopsis: Humans live their lives driven by ambition and greed, prepared to kill their own kind with no hesitation. Since the beginning of humanity, wars have raged on throughout the human world, with the other races watching on. A victim of one war and orphaned, Ashleen was saved by the lord of the werewolves, Muzaka. Muzaka had abandoned his duties as lord and left the werewolf clan, travelling with Ashleen to secure her happiness. However, during his absence, members of Muzaka's species began orchestrating further wars on humans, disgusted by Muzaka's compassion. A secret and powerful organization established itself in the human realm, intending to manipulate Muzaka. When he is misinformed by the Union, Muzaka starts directing his rage toward the humans. Can his only friend, Cadis Etrama Di Raizel, the Noblesse, stop Muzuka's madness? Set 820 years before the events of Noblesse , Noblesse: Pamyeol-ui Sija depicts the tragic history of Muzaka, and how it led to the Noblesse's indefinite slumber.\n",
      "\n",
      "\n",
      "Name: Kamisama Kazoku\n",
      "Score: 7.15\n",
      "Genres: Fantasy, Romance, Comedy, Drama\n",
      "Synopsis: Samatarou is not just an average high-school boy, the truth is that he is the son of a god, his mother is a goddess and his sisters are candidates to become goddesses. They are living in the human world, because they want their boy to learn about the human customs and the habits of the creatures that they are protecting, so that in this way Samatarou will become a better god. Tenko is a angel assigned to look after Samatarou. She's born the same day, same year as Samatarou and have been close friends ever since. Life seems normal but things start to change with the appearance of a transfer student named Kumiko. Samatarou falls in love with her and from now on, things will be a lot more different for him. His decision of making her fall in love with him without using his powers will put him in trouble.\n",
      "\n",
      "\n",
      "Name: Shingeki! Kyojin Chuugakkou\n",
      "Score: 7.05\n",
      "Genres: Comedy, Parody, School, Shounen\n",
      "Synopsis: On his first day of junior high, Eren Yeager comes face-to-face with a titan—and has his lunch stolen! From that day on, he holds a grudge against titans for taking his favorite food from him, a cheeseburger, vowing to eliminate their kind once and for all. Along with his adoptive sister Mikasa Ackerman and their friend Armin Arlert, the trio traverse the halls of Titan Junior High, encountering familiar faces and participating in various extracurricular activities as part of the Wall Cleanup Club. A parody of the immensely popular parent series, Shingeki! Kyojin Chuugakkou places beloved characters as junior high school students, fighting to protect their lunches from gluttonous titans.\n",
      "\n",
      "\n"
     ]
    }
   ],
   "source": [
    "recommend('Shingeki no Kyojin')"
   ]
  },
  {
   "cell_type": "code",
   "execution_count": 36,
   "id": "4d8099ce",
   "metadata": {},
   "outputs": [
    {
     "name": "stdout",
     "output_type": "stream",
     "text": [
      "Ginga Senpuu Braiger\n",
      "Planetes Picture Drama\n",
      "Odin: Koushi Hansen Starlight\n",
      "Happening Star ☆\n",
      "Konglong Baobei Zhi Longshen Yongshi 3\n",
      "Seihou Bukyou Outlaw Star\n",
      "Uchuu Kuubo Blue Noah\n",
      "Byeolnala Samchongsa\n",
      "Space Adventure Cobra\n",
      "Rokushin Gattai GodMars (1982)\n",
      "Sol Bianca: Taiyou no Fune\n",
      "Ginga Tetsudou Monogatari: Eien e no Bunkiten\n",
      "Konglong Baobei Zhi Longshen Yongshi 2\n",
      "Uchuu no Kishi Tekkaman\n"
     ]
    }
   ],
   "source": []
  },
  {
   "cell_type": "code",
   "execution_count": null,
   "id": "73048634",
   "metadata": {},
   "outputs": [],
   "source": []
  }
 ],
 "metadata": {
  "kernelspec": {
   "display_name": "Python 3 (ipykernel)",
   "language": "python",
   "name": "python3"
  },
  "language_info": {
   "codemirror_mode": {
    "name": "ipython",
    "version": 3
   },
   "file_extension": ".py",
   "mimetype": "text/x-python",
   "name": "python",
   "nbconvert_exporter": "python",
   "pygments_lexer": "ipython3",
   "version": "3.10.9"
  }
 },
 "nbformat": 4,
 "nbformat_minor": 5
}
